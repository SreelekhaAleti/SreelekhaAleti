{
 "cells": [
  {
   "cell_type": "code",
   "execution_count": 4,
   "id": "64cd7b1e",
   "metadata": {},
   "outputs": [
    {
     "name": "stdout",
     "output_type": "stream",
     "text": [
      "Enter input string:This is python class\n",
      "Enter seperator:python\n",
      "['This is', 'python', 'class']\n"
     ]
    }
   ],
   "source": [
    "#input_string= 'This is Python class'\n",
    "#sep_string='is'\n",
    "input_string = input (\"Enter input string:\")\n",
    "sep_string = input(\"Enter seperator:\")\n",
    "result=[]\n",
    "temp=[]\n",
    "temp1=[]\n",
    "input_list= input_string.split()\n",
    "for i in input_list: \n",
    "    if i==sep_string:\n",
    "        z= input_list.index(i)\n",
    "for i in range(0,z):\n",
    "    temp1.append(input_list[i])\n",
    "temp1=' '.join(temp1)\n",
    "result.append(temp1)\n",
    "result[0]=' '.join(result)\n",
    "result.append(input_list[z])\n",
    "for i in range(z+1,len(input_list)):\n",
    "    temp.append(input_list[i])\n",
    "temp=' '.join(temp)\n",
    "#print(temp)\n",
    "result.append(temp)\n",
    "print(result)"
   ]
  },
  {
   "cell_type": "code",
   "execution_count": null,
   "id": "c43fe3ed",
   "metadata": {},
   "outputs": [],
   "source": [
    "#x = input()\n",
    "#print(x)"
   ]
  },
  {
   "cell_type": "code",
   "execution_count": 5,
   "id": "f2ddb42b",
   "metadata": {},
   "outputs": [
    {
     "name": "stdout",
     "output_type": "stream",
     "text": [
      "[(9, 1), (2, 3), (5, 4), (5, 5), (7, 6), (5, 9)]\n"
     ]
    }
   ],
   "source": [
    "input= [(5,4),(9,1),(2,3),(5,9),(7,6),(5,5)]\n",
    "x=len(input) \n",
    "temp \n",
    "for i in range(0,x): \n",
    "    for j in range(0,x-i-1): \n",
    "        if(input[j][1]>input[j+1][1]): #for each tuple in list, check >/<\n",
    "            temp=input[j] \n",
    "            input[j]=input[j+1] \n",
    "            input[j+1]=temp \n",
    "print(input)"
   ]
  },
  {
   "cell_type": "code",
   "execution_count": 6,
   "id": "3af176f5",
   "metadata": {},
   "outputs": [
    {
     "name": "stdout",
     "output_type": "stream",
     "text": [
      "['peter', 'piper', 'picked', 'a', 'pack', 'of', 'pickled', 'peppers']\n",
      "peppers pickled of pack a picked piper peter\n"
     ]
    }
   ],
   "source": [
    "input_str='peter piper picked a pack of pickled peppers'\n",
    "#' '.join(input_str()[::-1])\n",
    "input_list=input_str.split()\n",
    "print(input_list)\n",
    "out_list=input_list.copy()\n",
    "j=len(out_list)-1 #index of o/p list\n",
    "for i in input_list:\n",
    "    out_list[j]=i\n",
    "    j=j-1\n",
    "out_list=' '.join(out_list)\n",
    "print(out_list)"
   ]
  }
 ],
 "metadata": {
  "kernelspec": {
   "display_name": "Python 3",
   "language": "python",
   "name": "python3"
  },
  "language_info": {
   "codemirror_mode": {
    "name": "ipython",
    "version": 3
   },
   "file_extension": ".py",
   "mimetype": "text/x-python",
   "name": "python",
   "nbconvert_exporter": "python",
   "pygments_lexer": "ipython3",
   "version": "3.8.8"
  }
 },
 "nbformat": 4,
 "nbformat_minor": 5
}
